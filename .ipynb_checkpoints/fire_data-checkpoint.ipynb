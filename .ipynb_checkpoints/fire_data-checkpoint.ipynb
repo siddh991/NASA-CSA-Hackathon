{
 "cells": [
  {
   "cell_type": "code",
   "execution_count": 75,
   "metadata": {},
   "outputs": [],
   "source": [
    "import pandas as pd\n",
    "from datetime import datetime as dt"
   ]
  },
  {
   "cell_type": "code",
   "execution_count": 76,
   "metadata": {},
   "outputs": [],
   "source": [
    "def remove_small_fires(data: pd.DataFrame, scn_trck='scan', size=1):\n",
    "    other = 'track'\n",
    "    if scn_trck == 'track':\n",
    "        other = 'scan'\n",
    "    keep_data = []\n",
    "    for index, row in data[scn_trck].items():\n",
    "        keep = True\n",
    "        if row <= size:\n",
    "            keep = False\n",
    "        keep_data.append(keep)\n",
    "    data = data[keep_data].reset_index().drop(columns=['index', other])\n",
    "    return data\n",
    "    "
   ]
  },
  {
   "cell_type": "code",
   "execution_count": 77,
   "metadata": {},
   "outputs": [],
   "source": [
    "def get_date_range(data, start_date, end_date):\n",
    "    \"\"\"\n",
    "    input in the form of a string \"yyyy-mm-dd\"\n",
    "    \"\"\"\n",
    "    start_date = strip_date(start_date)\n",
    "    end_date = strip_date(end_date)\n",
    "    dates = data['acq_date']\n",
    "    start_index = 0\n",
    "    end_index = 0\n",
    "    for index, row in dates.items():\n",
    "        if strip_date(row) >= start_date:\n",
    "            start_index = index\n",
    "            break\n",
    "    for index, row in reversed(dates.items()):\n",
    "        if strip_date(row) >= start_date:\n",
    "            end_index = -index - 1\n",
    "            break\n",
    "    print(start_index, end_index)\n",
    "\n",
    "def strip_date(date):\n",
    "    return dt.strptime(date, '%Y-%m-%d')"
   ]
  },
  {
   "cell_type": "code",
   "execution_count": null,
   "metadata": {},
   "outputs": [],
   "source": [
    "def get_day_time_location(data):\n",
    "    return data[['acq_time', 'acq_date', 'lititude', 'longitude']]"
   ]
  },
  {
   "cell_type": "code",
   "execution_count": 84,
   "metadata": {},
   "outputs": [],
   "source": [
    "def load_fire_data(files: [list, str]):\n",
    "    if type(files) == str:\n",
    "        data = pd.read_csv(files)\n",
    "    elif type(files) == list:\n",
    "        data = pd.DataFrame([])\n",
    "        for file in files:\n",
    "            data = data.append(pd.read_csv(file))\n",
    "    else:\n",
    "        raise ValueError('files must be a list or a string')\n",
    "    data = data[data['type'] == 0.0]\n",
    "    data = data.reset_index().drop(columns=['index', 'version', 'instrument', 'daynight', 'confidence', 'type', 'bright_t31'])\n",
    "    data = remove_small_fires(data, size=2)\n",
    "    return data"
   ]
  },
  {
   "cell_type": "code",
   "execution_count": 85,
   "metadata": {},
   "outputs": [],
   "source": [
    "data = load_fire_data(['data/DL_FIRE_M6_81124/fire_archive_M6_81124.csv', 'data/DL_FIRE_M6_81124/fire_nrt_M6_81124.csv'])"
   ]
  },
  {
   "cell_type": "code",
   "execution_count": 86,
   "metadata": {},
   "outputs": [
    {
     "data": {
      "text/html": [
       "<div>\n",
       "<style scoped>\n",
       "    .dataframe tbody tr th:only-of-type {\n",
       "        vertical-align: middle;\n",
       "    }\n",
       "\n",
       "    .dataframe tbody tr th {\n",
       "        vertical-align: top;\n",
       "    }\n",
       "\n",
       "    .dataframe thead th {\n",
       "        text-align: right;\n",
       "    }\n",
       "</style>\n",
       "<table border=\"1\" class=\"dataframe\">\n",
       "  <thead>\n",
       "    <tr style=\"text-align: right;\">\n",
       "      <th></th>\n",
       "      <th>acq_date</th>\n",
       "      <th>acq_time</th>\n",
       "      <th>brightness</th>\n",
       "      <th>frp</th>\n",
       "      <th>latitude</th>\n",
       "      <th>longitude</th>\n",
       "      <th>satellite</th>\n",
       "      <th>scan</th>\n",
       "    </tr>\n",
       "  </thead>\n",
       "  <tbody>\n",
       "    <tr>\n",
       "      <td>0</td>\n",
       "      <td>2004-01-09</td>\n",
       "      <td>1816</td>\n",
       "      <td>324.2</td>\n",
       "      <td>92.5</td>\n",
       "      <td>53.9123</td>\n",
       "      <td>-116.4156</td>\n",
       "      <td>Terra</td>\n",
       "      <td>2.3</td>\n",
       "    </tr>\n",
       "    <tr>\n",
       "      <td>1</td>\n",
       "      <td>2004-01-11</td>\n",
       "      <td>1942</td>\n",
       "      <td>304.6</td>\n",
       "      <td>31.5</td>\n",
       "      <td>53.4166</td>\n",
       "      <td>-116.1232</td>\n",
       "      <td>Terra</td>\n",
       "      <td>2.2</td>\n",
       "    </tr>\n",
       "    <tr>\n",
       "      <td>2</td>\n",
       "      <td>2004-01-11</td>\n",
       "      <td>1942</td>\n",
       "      <td>322.0</td>\n",
       "      <td>76.2</td>\n",
       "      <td>53.4048</td>\n",
       "      <td>-116.1318</td>\n",
       "      <td>Terra</td>\n",
       "      <td>2.2</td>\n",
       "    </tr>\n",
       "    <tr>\n",
       "      <td>3</td>\n",
       "      <td>2004-01-11</td>\n",
       "      <td>1948</td>\n",
       "      <td>318.0</td>\n",
       "      <td>61.0</td>\n",
       "      <td>53.4094</td>\n",
       "      <td>-116.1499</td>\n",
       "      <td>Aqua</td>\n",
       "      <td>2.2</td>\n",
       "    </tr>\n",
       "    <tr>\n",
       "      <td>4</td>\n",
       "      <td>2004-01-11</td>\n",
       "      <td>1948</td>\n",
       "      <td>318.6</td>\n",
       "      <td>66.5</td>\n",
       "      <td>53.4109</td>\n",
       "      <td>-116.1435</td>\n",
       "      <td>Aqua</td>\n",
       "      <td>2.2</td>\n",
       "    </tr>\n",
       "    <tr>\n",
       "      <td>...</td>\n",
       "      <td>...</td>\n",
       "      <td>...</td>\n",
       "      <td>...</td>\n",
       "      <td>...</td>\n",
       "      <td>...</td>\n",
       "      <td>...</td>\n",
       "      <td>...</td>\n",
       "      <td>...</td>\n",
       "    </tr>\n",
       "    <tr>\n",
       "      <td>176741</td>\n",
       "      <td>2019-07-31</td>\n",
       "      <td>1939</td>\n",
       "      <td>325.3</td>\n",
       "      <td>135.6</td>\n",
       "      <td>59.3919</td>\n",
       "      <td>-104.7532</td>\n",
       "      <td>Terra</td>\n",
       "      <td>3.4</td>\n",
       "    </tr>\n",
       "    <tr>\n",
       "      <td>176742</td>\n",
       "      <td>2019-07-31</td>\n",
       "      <td>1939</td>\n",
       "      <td>312.8</td>\n",
       "      <td>33.2</td>\n",
       "      <td>60.7264</td>\n",
       "      <td>-107.3169</td>\n",
       "      <td>Terra</td>\n",
       "      <td>2.4</td>\n",
       "    </tr>\n",
       "    <tr>\n",
       "      <td>176743</td>\n",
       "      <td>2019-07-31</td>\n",
       "      <td>1950</td>\n",
       "      <td>310.5</td>\n",
       "      <td>34.1</td>\n",
       "      <td>53.2452</td>\n",
       "      <td>-92.1986</td>\n",
       "      <td>Aqua</td>\n",
       "      <td>2.7</td>\n",
       "    </tr>\n",
       "    <tr>\n",
       "      <td>176744</td>\n",
       "      <td>2019-07-31</td>\n",
       "      <td>1950</td>\n",
       "      <td>312.6</td>\n",
       "      <td>43.1</td>\n",
       "      <td>53.2412</td>\n",
       "      <td>-92.1896</td>\n",
       "      <td>Aqua</td>\n",
       "      <td>2.7</td>\n",
       "    </tr>\n",
       "    <tr>\n",
       "      <td>176745</td>\n",
       "      <td>2019-07-31</td>\n",
       "      <td>1950</td>\n",
       "      <td>317.2</td>\n",
       "      <td>53.6</td>\n",
       "      <td>53.4318</td>\n",
       "      <td>-93.0221</td>\n",
       "      <td>Aqua</td>\n",
       "      <td>2.5</td>\n",
       "    </tr>\n",
       "  </tbody>\n",
       "</table>\n",
       "<p>176746 rows × 8 columns</p>\n",
       "</div>"
      ],
      "text/plain": [
       "          acq_date  acq_time  brightness    frp  latitude  longitude  \\\n",
       "0       2004-01-09      1816       324.2   92.5   53.9123  -116.4156   \n",
       "1       2004-01-11      1942       304.6   31.5   53.4166  -116.1232   \n",
       "2       2004-01-11      1942       322.0   76.2   53.4048  -116.1318   \n",
       "3       2004-01-11      1948       318.0   61.0   53.4094  -116.1499   \n",
       "4       2004-01-11      1948       318.6   66.5   53.4109  -116.1435   \n",
       "...            ...       ...         ...    ...       ...        ...   \n",
       "176741  2019-07-31      1939       325.3  135.6   59.3919  -104.7532   \n",
       "176742  2019-07-31      1939       312.8   33.2   60.7264  -107.3169   \n",
       "176743  2019-07-31      1950       310.5   34.1   53.2452   -92.1986   \n",
       "176744  2019-07-31      1950       312.6   43.1   53.2412   -92.1896   \n",
       "176745  2019-07-31      1950       317.2   53.6   53.4318   -93.0221   \n",
       "\n",
       "       satellite  scan  \n",
       "0          Terra   2.3  \n",
       "1          Terra   2.2  \n",
       "2          Terra   2.2  \n",
       "3           Aqua   2.2  \n",
       "4           Aqua   2.2  \n",
       "...          ...   ...  \n",
       "176741     Terra   3.4  \n",
       "176742     Terra   2.4  \n",
       "176743      Aqua   2.7  \n",
       "176744      Aqua   2.7  \n",
       "176745      Aqua   2.5  \n",
       "\n",
       "[176746 rows x 8 columns]"
      ]
     },
     "execution_count": 86,
     "metadata": {},
     "output_type": "execute_result"
    }
   ],
   "source": [
    "data"
   ]
  },
  {
   "cell_type": "code",
   "execution_count": 87,
   "metadata": {},
   "outputs": [
    {
     "data": {
      "text/plain": [
       "(69.6655, -52.9539)"
      ]
     },
     "execution_count": 87,
     "metadata": {},
     "output_type": "execute_result"
    }
   ],
   "source": [
    "max(data['latitude']), max(data['longitude'])"
   ]
  },
  {
   "cell_type": "code",
   "execution_count": 88,
   "metadata": {},
   "outputs": [
    {
     "data": {
      "text/plain": [
       "(42.0463, -141.004)"
      ]
     },
     "execution_count": 88,
     "metadata": {},
     "output_type": "execute_result"
    }
   ],
   "source": [
    "min(data['latitude']), min(data['longitude'])"
   ]
  },
  {
   "cell_type": "code",
   "execution_count": 89,
   "metadata": {},
   "outputs": [
    {
     "data": {
      "text/plain": [
       "0         2004-01-09\n",
       "1         2004-01-11\n",
       "2         2004-01-11\n",
       "3         2004-01-11\n",
       "4         2004-01-11\n",
       "             ...    \n",
       "176741    2019-07-31\n",
       "176742    2019-07-31\n",
       "176743    2019-07-31\n",
       "176744    2019-07-31\n",
       "176745    2019-07-31\n",
       "Name: acq_date, Length: 176746, dtype: object"
      ]
     },
     "execution_count": 89,
     "metadata": {},
     "output_type": "execute_result"
    }
   ],
   "source": [
    "data['acq_date']"
   ]
  },
  {
   "cell_type": "code",
   "execution_count": null,
   "metadata": {},
   "outputs": [],
   "source": []
  },
  {
   "cell_type": "code",
   "execution_count": null,
   "metadata": {},
   "outputs": [],
   "source": []
  }
 ],
 "metadata": {
  "kernelspec": {
   "display_name": "Python 3",
   "language": "python",
   "name": "python3"
  },
  "language_info": {
   "codemirror_mode": {
    "name": "ipython",
    "version": 3
   },
   "file_extension": ".py",
   "mimetype": "text/x-python",
   "name": "python",
   "nbconvert_exporter": "python",
   "pygments_lexer": "ipython3",
   "version": "3.7.4"
  }
 },
 "nbformat": 4,
 "nbformat_minor": 2
}
