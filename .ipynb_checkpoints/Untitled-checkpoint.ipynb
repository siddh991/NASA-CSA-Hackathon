{
 "cells": [
  {
   "cell_type": "code",
   "execution_count": 67,
   "metadata": {},
   "outputs": [],
   "source": [
    "import pandas as pd\n",
    "from datetime import datetime as dt"
   ]
  },
  {
   "cell_type": "code",
   "execution_count": 58,
   "metadata": {},
   "outputs": [],
   "source": [
    "def remove_small_fires(data: pd.DataFrame, scn_trck='scan', size=1):\n",
    "    other = 'track'\n",
    "    if scn_trck == 'track':\n",
    "        other = 'scan'\n",
    "    keep_data = []\n",
    "    for index, row in data[scn_trck].items():\n",
    "        keep = True\n",
    "        if row <= size:\n",
    "            keep = False\n",
    "        keep_data.append(keep)\n",
    "    data = data[keep_data].reset_index().drop(columns=['index', other])\n",
    "    return data\n",
    "    "
   ]
  },
  {
   "cell_type": "code",
   "execution_count": 66,
   "metadata": {},
   "outputs": [
    {
     "ename": "ModuleNotFoundError",
     "evalue": "No module named 'datetime.datetime'; 'datetime' is not a package",
     "output_type": "error",
     "traceback": [
      "\u001b[0;31m---------------------------------------------------------------------------\u001b[0m",
      "\u001b[0;31mModuleNotFoundError\u001b[0m                       Traceback (most recent call last)",
      "\u001b[0;32m<ipython-input-66-a38ae04a11d8>\u001b[0m in \u001b[0;36m<module>\u001b[0;34m\u001b[0m\n\u001b[0;32m----> 1\u001b[0;31m \u001b[0;32mimport\u001b[0m \u001b[0mdatetime\u001b[0m\u001b[0;34m.\u001b[0m\u001b[0mdatetime\u001b[0m \u001b[0;32mas\u001b[0m \u001b[0mdt\u001b[0m\u001b[0;34m\u001b[0m\u001b[0;34m\u001b[0m\u001b[0m\n\u001b[0m\u001b[1;32m      2\u001b[0m \u001b[0;34m\u001b[0m\u001b[0m\n\u001b[1;32m      3\u001b[0m \u001b[0;34m\u001b[0m\u001b[0m\n\u001b[1;32m      4\u001b[0m \u001b[0;32mdef\u001b[0m \u001b[0mget_date_range\u001b[0m\u001b[0;34m(\u001b[0m\u001b[0mdata\u001b[0m\u001b[0;34m,\u001b[0m \u001b[0mstart_date\u001b[0m\u001b[0;34m,\u001b[0m \u001b[0mend_date\u001b[0m\u001b[0;34m)\u001b[0m\u001b[0;34m:\u001b[0m\u001b[0;34m\u001b[0m\u001b[0;34m\u001b[0m\u001b[0m\n\u001b[1;32m      5\u001b[0m     \"\"\"\n",
      "\u001b[0;31mModuleNotFoundError\u001b[0m: No module named 'datetime.datetime'; 'datetime' is not a package"
     ]
    }
   ],
   "source": [
    "def get_date_range(data, start_date, end_date):\n",
    "    \"\"\"\n",
    "    input in the form of a string \"yyyy-mm-dd\"\n",
    "    \"\"\"\n",
    "    start_date = strip_date(start_date)\n",
    "    end_date = strip_date(end_date)\n",
    "    dates = data['acq_date']\n",
    "    start_index = 0\n",
    "    end_index = 0\n",
    "    for index, row in dates.items():\n",
    "        if strip_date(row) >= start_date:\n",
    "            start_index = index\n",
    "            break\n",
    "    for index, row in reversed(dates.items()):\n",
    "        if strip_date(row) >= start_date:\n",
    "            end_index = -index - 1\n",
    "            break\n",
    "    print(start_index, end_index)\n",
    "\n",
    "def strip_date(date):\n",
    "    return dt.strptime(date, '%Y-%m-%d')"
   ]
  },
  {
   "cell_type": "code",
   "execution_count": 59,
   "metadata": {},
   "outputs": [],
   "source": [
    "def load_fire_data(files: [list, str]):\n",
    "    if type(files) == str:\n",
    "        data = pd.read_csv(files)\n",
    "    elif type(files) == list:\n",
    "        data = pd.DataFrame([])\n",
    "        for file in files:\n",
    "            data = data.append(pd.read_csv(file))\n",
    "    else:\n",
    "        raise ValueError('files must be a list or a string')\n",
    "    data = data[data['type'] == 0.0]\n",
    "    data = data.reset_index().drop(columns=['index', 'version', 'instrument', 'daynight', 'confidence', 'type', 'bright_t31'])\n",
    "    data = remove_small_fires(data, size=2)\n",
    "    return data"
   ]
  },
  {
   "cell_type": "code",
   "execution_count": 56,
   "metadata": {},
   "outputs": [],
   "source": [
    "data = load_fire_data(['data/DL_FIRE_M6_81124/fire_archive_M6_81124.csv', 'data/DL_FIRE_M6_81124/fire_nrt_M6_81124.csv'])"
   ]
  },
  {
   "cell_type": "code",
   "execution_count": 57,
   "metadata": {},
   "outputs": [
    {
     "data": {
      "text/html": [
       "<div>\n",
       "<style scoped>\n",
       "    .dataframe tbody tr th:only-of-type {\n",
       "        vertical-align: middle;\n",
       "    }\n",
       "\n",
       "    .dataframe tbody tr th {\n",
       "        vertical-align: top;\n",
       "    }\n",
       "\n",
       "    .dataframe thead th {\n",
       "        text-align: right;\n",
       "    }\n",
       "</style>\n",
       "<table border=\"1\" class=\"dataframe\">\n",
       "  <thead>\n",
       "    <tr style=\"text-align: right;\">\n",
       "      <th></th>\n",
       "      <th>acq_date</th>\n",
       "      <th>acq_time</th>\n",
       "      <th>brightness</th>\n",
       "      <th>frp</th>\n",
       "      <th>latitude</th>\n",
       "      <th>longitude</th>\n",
       "      <th>satellite</th>\n",
       "      <th>scan</th>\n",
       "      <th>track</th>\n",
       "    </tr>\n",
       "  </thead>\n",
       "  <tbody>\n",
       "    <tr>\n",
       "      <td>0</td>\n",
       "      <td>2004-02-09</td>\n",
       "      <td>2048</td>\n",
       "      <td>328.7</td>\n",
       "      <td>251.4</td>\n",
       "      <td>57.2279</td>\n",
       "      <td>-121.9406</td>\n",
       "      <td>Terra</td>\n",
       "      <td>4.3</td>\n",
       "      <td>1.9</td>\n",
       "    </tr>\n",
       "    <tr>\n",
       "      <td>1</td>\n",
       "      <td>2004-02-09</td>\n",
       "      <td>2048</td>\n",
       "      <td>328.3</td>\n",
       "      <td>251.9</td>\n",
       "      <td>57.2252</td>\n",
       "      <td>-121.9467</td>\n",
       "      <td>Terra</td>\n",
       "      <td>4.3</td>\n",
       "      <td>1.9</td>\n",
       "    </tr>\n",
       "    <tr>\n",
       "      <td>2</td>\n",
       "      <td>2004-02-16</td>\n",
       "      <td>1924</td>\n",
       "      <td>328.9</td>\n",
       "      <td>255.9</td>\n",
       "      <td>54.0702</td>\n",
       "      <td>-117.1110</td>\n",
       "      <td>Aqua</td>\n",
       "      <td>4.1</td>\n",
       "      <td>1.9</td>\n",
       "    </tr>\n",
       "    <tr>\n",
       "      <td>3</td>\n",
       "      <td>2004-02-16</td>\n",
       "      <td>1924</td>\n",
       "      <td>300.2</td>\n",
       "      <td>66.7</td>\n",
       "      <td>54.0882</td>\n",
       "      <td>-117.0558</td>\n",
       "      <td>Aqua</td>\n",
       "      <td>4.1</td>\n",
       "      <td>1.9</td>\n",
       "    </tr>\n",
       "    <tr>\n",
       "      <td>4</td>\n",
       "      <td>2004-02-16</td>\n",
       "      <td>1924</td>\n",
       "      <td>333.5</td>\n",
       "      <td>303.3</td>\n",
       "      <td>54.0677</td>\n",
       "      <td>-117.0989</td>\n",
       "      <td>Aqua</td>\n",
       "      <td>4.1</td>\n",
       "      <td>1.9</td>\n",
       "    </tr>\n",
       "    <tr>\n",
       "      <td>...</td>\n",
       "      <td>...</td>\n",
       "      <td>...</td>\n",
       "      <td>...</td>\n",
       "      <td>...</td>\n",
       "      <td>...</td>\n",
       "      <td>...</td>\n",
       "      <td>...</td>\n",
       "      <td>...</td>\n",
       "      <td>...</td>\n",
       "    </tr>\n",
       "    <tr>\n",
       "      <td>22855</td>\n",
       "      <td>2019-07-29</td>\n",
       "      <td>2306</td>\n",
       "      <td>336.2</td>\n",
       "      <td>307.2</td>\n",
       "      <td>66.7001</td>\n",
       "      <td>-138.2264</td>\n",
       "      <td>Terra</td>\n",
       "      <td>4.4</td>\n",
       "      <td>1.9</td>\n",
       "    </tr>\n",
       "    <tr>\n",
       "      <td>22856</td>\n",
       "      <td>2019-07-29</td>\n",
       "      <td>2306</td>\n",
       "      <td>331.0</td>\n",
       "      <td>251.6</td>\n",
       "      <td>66.7004</td>\n",
       "      <td>-138.2352</td>\n",
       "      <td>Terra</td>\n",
       "      <td>4.4</td>\n",
       "      <td>1.9</td>\n",
       "    </tr>\n",
       "    <tr>\n",
       "      <td>22857</td>\n",
       "      <td>2019-07-29</td>\n",
       "      <td>2306</td>\n",
       "      <td>313.2</td>\n",
       "      <td>99.7</td>\n",
       "      <td>66.6693</td>\n",
       "      <td>-138.1709</td>\n",
       "      <td>Terra</td>\n",
       "      <td>4.4</td>\n",
       "      <td>1.9</td>\n",
       "    </tr>\n",
       "    <tr>\n",
       "      <td>22858</td>\n",
       "      <td>2019-07-29</td>\n",
       "      <td>2306</td>\n",
       "      <td>311.2</td>\n",
       "      <td>83.1</td>\n",
       "      <td>66.6690</td>\n",
       "      <td>-138.1630</td>\n",
       "      <td>Terra</td>\n",
       "      <td>4.4</td>\n",
       "      <td>1.9</td>\n",
       "    </tr>\n",
       "    <tr>\n",
       "      <td>22859</td>\n",
       "      <td>2019-07-31</td>\n",
       "      <td>1814</td>\n",
       "      <td>303.4</td>\n",
       "      <td>37.4</td>\n",
       "      <td>59.4388</td>\n",
       "      <td>-104.7361</td>\n",
       "      <td>Aqua</td>\n",
       "      <td>4.1</td>\n",
       "      <td>1.9</td>\n",
       "    </tr>\n",
       "  </tbody>\n",
       "</table>\n",
       "<p>22860 rows × 9 columns</p>\n",
       "</div>"
      ],
      "text/plain": [
       "         acq_date  acq_time  brightness    frp  latitude  longitude satellite  \\\n",
       "0      2004-02-09      2048       328.7  251.4   57.2279  -121.9406     Terra   \n",
       "1      2004-02-09      2048       328.3  251.9   57.2252  -121.9467     Terra   \n",
       "2      2004-02-16      1924       328.9  255.9   54.0702  -117.1110      Aqua   \n",
       "3      2004-02-16      1924       300.2   66.7   54.0882  -117.0558      Aqua   \n",
       "4      2004-02-16      1924       333.5  303.3   54.0677  -117.0989      Aqua   \n",
       "...           ...       ...         ...    ...       ...        ...       ...   \n",
       "22855  2019-07-29      2306       336.2  307.2   66.7001  -138.2264     Terra   \n",
       "22856  2019-07-29      2306       331.0  251.6   66.7004  -138.2352     Terra   \n",
       "22857  2019-07-29      2306       313.2   99.7   66.6693  -138.1709     Terra   \n",
       "22858  2019-07-29      2306       311.2   83.1   66.6690  -138.1630     Terra   \n",
       "22859  2019-07-31      1814       303.4   37.4   59.4388  -104.7361      Aqua   \n",
       "\n",
       "       scan  track  \n",
       "0       4.3    1.9  \n",
       "1       4.3    1.9  \n",
       "2       4.1    1.9  \n",
       "3       4.1    1.9  \n",
       "4       4.1    1.9  \n",
       "...     ...    ...  \n",
       "22855   4.4    1.9  \n",
       "22856   4.4    1.9  \n",
       "22857   4.4    1.9  \n",
       "22858   4.4    1.9  \n",
       "22859   4.1    1.9  \n",
       "\n",
       "[22860 rows x 9 columns]"
      ]
     },
     "execution_count": 57,
     "metadata": {},
     "output_type": "execute_result"
    }
   ],
   "source": [
    "data"
   ]
  },
  {
   "cell_type": "code",
   "execution_count": 62,
   "metadata": {},
   "outputs": [
    {
     "data": {
      "text/plain": [
       "(69.6346, -57.6505)"
      ]
     },
     "execution_count": 62,
     "metadata": {},
     "output_type": "execute_result"
    }
   ],
   "source": [
    "max(data['latitude']), max(data['longitude'])"
   ]
  },
  {
   "cell_type": "code",
   "execution_count": 63,
   "metadata": {},
   "outputs": [
    {
     "data": {
      "text/plain": [
       "(42.5717, -141.0016)"
      ]
     },
     "execution_count": 63,
     "metadata": {},
     "output_type": "execute_result"
    }
   ],
   "source": [
    "min(data['latitude']), min(data['longitude'])"
   ]
  },
  {
   "cell_type": "code",
   "execution_count": 64,
   "metadata": {},
   "outputs": [
    {
     "data": {
      "text/plain": [
       "0        2004-02-09\n",
       "1        2004-02-09\n",
       "2        2004-02-16\n",
       "3        2004-02-16\n",
       "4        2004-02-16\n",
       "            ...    \n",
       "22855    2019-07-29\n",
       "22856    2019-07-29\n",
       "22857    2019-07-29\n",
       "22858    2019-07-29\n",
       "22859    2019-07-31\n",
       "Name: acq_date, Length: 22860, dtype: object"
      ]
     },
     "execution_count": 64,
     "metadata": {},
     "output_type": "execute_result"
    }
   ],
   "source": [
    "data['acq_date']"
   ]
  },
  {
   "cell_type": "code",
   "execution_count": null,
   "metadata": {},
   "outputs": [],
   "source": []
  }
 ],
 "metadata": {
  "kernelspec": {
   "display_name": "Python 3",
   "language": "python",
   "name": "python3"
  },
  "language_info": {
   "codemirror_mode": {
    "name": "ipython",
    "version": 3
   },
   "file_extension": ".py",
   "mimetype": "text/x-python",
   "name": "python",
   "nbconvert_exporter": "python",
   "pygments_lexer": "ipython3",
   "version": "3.7.4"
  }
 },
 "nbformat": 4,
 "nbformat_minor": 2
}
