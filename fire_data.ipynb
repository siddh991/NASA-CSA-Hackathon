{
 "cells": [
  {
   "cell_type": "code",
   "execution_count": 123,
   "metadata": {},
   "outputs": [],
   "source": [
    "import pandas as pd\n",
    "from datetime import datetime as dt"
   ]
  },
  {
   "cell_type": "code",
   "execution_count": 124,
   "metadata": {},
   "outputs": [],
   "source": [
    "def remove_small_fires(data: pd.DataFrame, scn_trck='scan', size=1):\n",
    "    other = 'track'\n",
    "    if scn_trck == 'track':\n",
    "        other = 'scan'\n",
    "    keep_data = []\n",
    "    for index, row in data[scn_trck].items():\n",
    "        keep = True\n",
    "        if row <= size:\n",
    "            keep = False\n",
    "        keep_data.append(keep)\n",
    "    data = data[keep_data].reset_index().drop(columns=['index', other])\n",
    "    return data\n",
    "    "
   ]
  },
  {
   "cell_type": "code",
   "execution_count": 125,
   "metadata": {},
   "outputs": [],
   "source": [
    "def get_date_range(data, start_date, end_date):\n",
    "    \"\"\"\n",
    "    input in the form of a string \"yyyy-mm-dd\"\n",
    "    \"\"\"\n",
    "    start_date = strip_date(start_date)\n",
    "    end_date = strip_date(end_date)\n",
    "    dates = data['acq_date']\n",
    "    start_index = 0\n",
    "    end_index = 0\n",
    "    for index, row in dates.items():\n",
    "        if strip_date(row) >= start_date:\n",
    "            start_index = index\n",
    "            break\n",
    "    for index, row in reversed(dates.items()):\n",
    "        if strip_date(row) >= start_date:\n",
    "            end_index = -index - 1\n",
    "            break\n",
    "    print(start_index, end_index)\n",
    "\n",
    "def strip_date(date):\n",
    "    return dt.strptime(date, '%Y-%m-%d')"
   ]
  },
  {
   "cell_type": "code",
   "execution_count": 153,
   "metadata": {},
   "outputs": [],
   "source": [
    "def remove_dates(data, date):\n",
    "    for index, row in data['acq_date'].items():\n",
    "        if row[:4] == date:\n",
    "            print(row[:4])\n",
    "            return data.iloc[index:, :]"
   ]
  },
  {
   "cell_type": "code",
   "execution_count": 154,
   "metadata": {},
   "outputs": [],
   "source": [
    "def get_day_time_location(data):\n",
    "    return data[['acq_time', 'acq_date', 'latitude', 'longitude']]"
   ]
  },
  {
   "cell_type": "code",
   "execution_count": 158,
   "metadata": {},
   "outputs": [],
   "source": [
    "def load_fire_data(files: [list, str]):\n",
    "    if type(files) == str:\n",
    "        data = pd.read_csv(files)\n",
    "    elif type(files) == list:\n",
    "        data = pd.DataFrame([])\n",
    "        for file in files:\n",
    "            data = data.append(pd.read_csv(file))\n",
    "    else:\n",
    "        raise ValueError('files must be a list or a string')\n",
    "    data = remove_dates(data, '2017')\n",
    "    data = data[data['type'] == 0.0]\n",
    "    data = data[data['confidence'] >= 100]\n",
    "    data = data[data['brightness'] >= np.percentile(data['brightness'], 10)]\n",
    "    data = data.reset_index().drop(columns=['index', 'version', 'instrument', 'daynight', 'type', 'bright_t31', 'confidence', 'satellite', 'frp'])\n",
    "    data = remove_small_fires(data, size=1)\n",
    "    data = data.drop(columns='scan')\n",
    "    return data"
   ]
  },
  {
   "cell_type": "code",
   "execution_count": 159,
   "metadata": {},
   "outputs": [
    {
     "name": "stdout",
     "output_type": "stream",
     "text": [
      "2017\n"
     ]
    }
   ],
   "source": [
    "data = load_fire_data(['data/DL_FIRE_M6_81124/fire_archive_M6_81124.csv', 'data/DL_FIRE_M6_81124/fire_nrt_M6_81124.csv'])"
   ]
  },
  {
   "cell_type": "code",
   "execution_count": 160,
   "metadata": {},
   "outputs": [
    {
     "data": {
      "text/html": [
       "<div>\n",
       "<style scoped>\n",
       "    .dataframe tbody tr th:only-of-type {\n",
       "        vertical-align: middle;\n",
       "    }\n",
       "\n",
       "    .dataframe tbody tr th {\n",
       "        vertical-align: top;\n",
       "    }\n",
       "\n",
       "    .dataframe thead th {\n",
       "        text-align: right;\n",
       "    }\n",
       "</style>\n",
       "<table border=\"1\" class=\"dataframe\">\n",
       "  <thead>\n",
       "    <tr style=\"text-align: right;\">\n",
       "      <th></th>\n",
       "      <th>acq_date</th>\n",
       "      <th>acq_time</th>\n",
       "      <th>brightness</th>\n",
       "      <th>latitude</th>\n",
       "      <th>longitude</th>\n",
       "    </tr>\n",
       "  </thead>\n",
       "  <tbody>\n",
       "    <tr>\n",
       "      <td>0</td>\n",
       "      <td>2017-01-12</td>\n",
       "      <td>1953</td>\n",
       "      <td>372.2</td>\n",
       "      <td>55.7452</td>\n",
       "      <td>-121.6579</td>\n",
       "    </tr>\n",
       "    <tr>\n",
       "      <td>1</td>\n",
       "      <td>2017-01-15</td>\n",
       "      <td>1846</td>\n",
       "      <td>389.4</td>\n",
       "      <td>54.1834</td>\n",
       "      <td>-117.2727</td>\n",
       "    </tr>\n",
       "    <tr>\n",
       "      <td>2</td>\n",
       "      <td>2017-01-15</td>\n",
       "      <td>1846</td>\n",
       "      <td>422.3</td>\n",
       "      <td>54.1854</td>\n",
       "      <td>-117.2909</td>\n",
       "    </tr>\n",
       "    <tr>\n",
       "      <td>3</td>\n",
       "      <td>2017-01-18</td>\n",
       "      <td>1917</td>\n",
       "      <td>384.5</td>\n",
       "      <td>53.0244</td>\n",
       "      <td>-116.5640</td>\n",
       "    </tr>\n",
       "    <tr>\n",
       "      <td>4</td>\n",
       "      <td>2017-01-18</td>\n",
       "      <td>2104</td>\n",
       "      <td>374.5</td>\n",
       "      <td>53.1377</td>\n",
       "      <td>-115.8775</td>\n",
       "    </tr>\n",
       "    <tr>\n",
       "      <td>...</td>\n",
       "      <td>...</td>\n",
       "      <td>...</td>\n",
       "      <td>...</td>\n",
       "      <td>...</td>\n",
       "      <td>...</td>\n",
       "    </tr>\n",
       "    <tr>\n",
       "      <td>25703</td>\n",
       "      <td>2019-07-31</td>\n",
       "      <td>615</td>\n",
       "      <td>332.4</td>\n",
       "      <td>67.2373</td>\n",
       "      <td>-131.4482</td>\n",
       "    </tr>\n",
       "    <tr>\n",
       "      <td>25704</td>\n",
       "      <td>2019-07-31</td>\n",
       "      <td>838</td>\n",
       "      <td>331.8</td>\n",
       "      <td>50.6842</td>\n",
       "      <td>-99.1288</td>\n",
       "    </tr>\n",
       "    <tr>\n",
       "      <td>25705</td>\n",
       "      <td>2019-07-31</td>\n",
       "      <td>1938</td>\n",
       "      <td>393.8</td>\n",
       "      <td>67.2150</td>\n",
       "      <td>-131.7663</td>\n",
       "    </tr>\n",
       "    <tr>\n",
       "      <td>25706</td>\n",
       "      <td>2019-07-31</td>\n",
       "      <td>2133</td>\n",
       "      <td>386.8</td>\n",
       "      <td>67.2350</td>\n",
       "      <td>-131.3381</td>\n",
       "    </tr>\n",
       "    <tr>\n",
       "      <td>25707</td>\n",
       "      <td>2019-07-31</td>\n",
       "      <td>2133</td>\n",
       "      <td>390.6</td>\n",
       "      <td>67.2378</td>\n",
       "      <td>-131.3096</td>\n",
       "    </tr>\n",
       "  </tbody>\n",
       "</table>\n",
       "<p>25708 rows × 5 columns</p>\n",
       "</div>"
      ],
      "text/plain": [
       "         acq_date  acq_time  brightness  latitude  longitude\n",
       "0      2017-01-12      1953       372.2   55.7452  -121.6579\n",
       "1      2017-01-15      1846       389.4   54.1834  -117.2727\n",
       "2      2017-01-15      1846       422.3   54.1854  -117.2909\n",
       "3      2017-01-18      1917       384.5   53.0244  -116.5640\n",
       "4      2017-01-18      2104       374.5   53.1377  -115.8775\n",
       "...           ...       ...         ...       ...        ...\n",
       "25703  2019-07-31       615       332.4   67.2373  -131.4482\n",
       "25704  2019-07-31       838       331.8   50.6842   -99.1288\n",
       "25705  2019-07-31      1938       393.8   67.2150  -131.7663\n",
       "25706  2019-07-31      2133       386.8   67.2350  -131.3381\n",
       "25707  2019-07-31      2133       390.6   67.2378  -131.3096\n",
       "\n",
       "[25708 rows x 5 columns]"
      ]
     },
     "execution_count": 160,
     "metadata": {},
     "output_type": "execute_result"
    }
   ],
   "source": [
    "data"
   ]
  },
  {
   "cell_type": "code",
   "execution_count": 87,
   "metadata": {},
   "outputs": [
    {
     "data": {
      "text/plain": [
       "(69.6655, -52.9539)"
      ]
     },
     "execution_count": 87,
     "metadata": {},
     "output_type": "execute_result"
    }
   ],
   "source": [
    "max(data['latitude']), max(data['longitude'])"
   ]
  },
  {
   "cell_type": "code",
   "execution_count": 88,
   "metadata": {},
   "outputs": [
    {
     "data": {
      "text/plain": [
       "(42.0463, -141.004)"
      ]
     },
     "execution_count": 88,
     "metadata": {},
     "output_type": "execute_result"
    }
   ],
   "source": [
    "min(data['latitude']), min(data['longitude'])"
   ]
  },
  {
   "cell_type": "code",
   "execution_count": 89,
   "metadata": {},
   "outputs": [
    {
     "data": {
      "text/plain": [
       "0         2004-01-09\n",
       "1         2004-01-11\n",
       "2         2004-01-11\n",
       "3         2004-01-11\n",
       "4         2004-01-11\n",
       "             ...    \n",
       "176741    2019-07-31\n",
       "176742    2019-07-31\n",
       "176743    2019-07-31\n",
       "176744    2019-07-31\n",
       "176745    2019-07-31\n",
       "Name: acq_date, Length: 176746, dtype: object"
      ]
     },
     "execution_count": 89,
     "metadata": {},
     "output_type": "execute_result"
    }
   ],
   "source": [
    "data['acq_date']"
   ]
  },
  {
   "cell_type": "code",
   "execution_count": null,
   "metadata": {},
   "outputs": [],
   "source": []
  },
  {
   "cell_type": "code",
   "execution_count": null,
   "metadata": {},
   "outputs": [],
   "source": []
  }
 ],
 "metadata": {
  "kernelspec": {
   "display_name": "Python 3",
   "language": "python",
   "name": "python3"
  },
  "language_info": {
   "codemirror_mode": {
    "name": "ipython",
    "version": 3
   },
   "file_extension": ".py",
   "mimetype": "text/x-python",
   "name": "python",
   "nbconvert_exporter": "python",
   "pygments_lexer": "ipython3",
   "version": "3.7.4"
  }
 },
 "nbformat": 4,
 "nbformat_minor": 2
}
